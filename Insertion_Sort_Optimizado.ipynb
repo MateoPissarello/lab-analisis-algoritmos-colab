{
  "cells": [
    {
      "cell_type": "markdown",
      "metadata": {},
      "source": [
        "# Insertion Sort Optimized"
      ]
    },
    {
      "cell_type": "code",
      "execution_count": 49,
      "metadata": {
        "id": "XLYz3TkEdKUH"
      },
      "outputs": [],
      "source": [
        "import numpy as np\n",
        "from numba import jit"
      ]
    },
    {
      "cell_type": "code",
      "execution_count": 50,
      "metadata": {
        "id": "t2UqHmZac-cS"
      },
      "outputs": [],
      "source": [
        "def create_array(n: int) -> list:\n",
        "    \"\"\"\n",
        "    Creates a list of random integers.\n",
        "\n",
        "    Parameters:\n",
        "    n (int): The number of elements to generate in the list.\n",
        "\n",
        "    Returns:\n",
        "    list: A list of random integers.\n",
        "    \"\"\"\n",
        "    return np.random.randint(1,101,size=n)\n"
      ]
    },
    {
      "cell_type": "code",
      "execution_count": 51,
      "metadata": {
        "id": "1SoZhLabcLi5"
      },
      "outputs": [],
      "source": [
        "@jit(nopython=True)\n",
        "def insertion_sort(arr: list) -> None:\n",
        "    \"\"\"\n",
        "    Sorts the given list in ascending order using the insertion sort algorithm.\n",
        "\n",
        "    Parameters:\n",
        "    arr (list): The list to be sorted.\n",
        "\n",
        "    Returns:\n",
        "    None: The function modifies the original list in-place.\n",
        "    \"\"\"\n",
        "    for j in range(1, len(arr)):\n",
        "        key: int = arr[j]\n",
        "        i: int = j - 1\n",
        "        while i >= 0 and arr[i] > key:\n",
        "            arr[i + 1] = arr[i]\n",
        "            i = i - 1\n",
        "        arr[i + 1] = key\n"
      ]
    },
    {
      "cell_type": "markdown",
      "metadata": {
        "id": "yYr-5Q1QzODR"
      },
      "source": [
        "# Create Array of N elements"
      ]
    },
    {
      "cell_type": "code",
      "execution_count": 52,
      "metadata": {
        "id": "wXJ8-OTFzN2g"
      },
      "outputs": [],
      "source": [
        "array_case_1 = create_array(1_000)\n",
        "array_case_2 = create_array(10_000)\n",
        "array_case_3 = create_array(100_000)\n",
        "array_case_4 = create_array(1_000_000)\n",
        "array_case_5 = create_array(10_000_000)"
      ]
    },
    {
      "cell_type": "markdown",
      "metadata": {},
      "source": [
        "# Execution time for cases"
      ]
    },
    {
      "cell_type": "markdown",
      "metadata": {},
      "source": [
        "### Case 1: Array of 1.000 elements"
      ]
    },
    {
      "cell_type": "code",
      "execution_count": 53,
      "metadata": {
        "colab": {
          "base_uri": "https://localhost:8080/",
          "height": 356
        },
        "id": "94J2EgnEdECU",
        "outputId": "0a425965-1c6f-4239-e281-f415c7b8630d"
      },
      "outputs": [
        {
          "name": "stdout",
          "output_type": "stream",
          "text": [
            "769 ns ± 5.24 ns per loop (mean ± std. dev. of 7 runs, 1,000,000 loops each)\n"
          ]
        }
      ],
      "source": [
        "%timeit insertion_sort(array_case_1)"
      ]
    },
    {
      "cell_type": "markdown",
      "metadata": {},
      "source": [
        "### Case 2: Array of 10.000 elements"
      ]
    },
    {
      "cell_type": "code",
      "execution_count": 54,
      "metadata": {},
      "outputs": [
        {
          "name": "stdout",
          "output_type": "stream",
          "text": [
            "5.48 µs ± 29.7 ns per loop (mean ± std. dev. of 7 runs, 100,000 loops each)\n"
          ]
        }
      ],
      "source": [
        "%timeit insertion_sort(array_case_2)"
      ]
    },
    {
      "cell_type": "markdown",
      "metadata": {},
      "source": [
        "### Case 3: Array of 100.000 elements"
      ]
    },
    {
      "cell_type": "code",
      "execution_count": 55,
      "metadata": {},
      "outputs": [
        {
          "name": "stdout",
          "output_type": "stream",
          "text": [
            "52 µs ± 2.57 µs per loop (mean ± std. dev. of 7 runs, 1 loop each)\n"
          ]
        }
      ],
      "source": [
        "%timeit insertion_sort(array_case_3)"
      ]
    },
    {
      "cell_type": "markdown",
      "metadata": {},
      "source": [
        "### Case 4: Array of 1.000.000 elements"
      ]
    },
    {
      "cell_type": "code",
      "execution_count": 57,
      "metadata": {},
      "outputs": [
        {
          "name": "stdout",
          "output_type": "stream",
          "text": [
            "588 µs ± 23.8 µs per loop (mean ± std. dev. of 7 runs, 1,000 loops each)\n"
          ]
        }
      ],
      "source": [
        "%timeit insertion_sort(array_case_4)"
      ]
    },
    {
      "cell_type": "markdown",
      "metadata": {},
      "source": [
        "### Case 5: Array of 10.000.000 elements"
      ]
    },
    {
      "cell_type": "code",
      "execution_count": 58,
      "metadata": {},
      "outputs": [],
      "source": [
        "%timeit insertion_sort(array_case_5)"
      ]
    }
  ],
  "metadata": {
    "colab": {
      "authorship_tag": "ABX9TyNz3EjTkL/+SBivQIHwRFNn",
      "include_colab_link": true,
      "provenance": []
    },
    "kernelspec": {
      "display_name": "Python 3",
      "name": "python3"
    },
    "language_info": {
      "codemirror_mode": {
        "name": "ipython",
        "version": 3
      },
      "file_extension": ".py",
      "mimetype": "text/x-python",
      "name": "python",
      "nbconvert_exporter": "python",
      "pygments_lexer": "ipython3",
      "version": "3.9.10"
    }
  },
  "nbformat": 4,
  "nbformat_minor": 0
}
