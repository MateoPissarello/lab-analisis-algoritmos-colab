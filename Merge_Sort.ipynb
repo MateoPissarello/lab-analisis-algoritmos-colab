{
 "cells": [
  {
   "cell_type": "markdown",
   "metadata": {},
   "source": [
    "# Merge Sort Optimized"
   ]
  },
  {
   "cell_type": "code",
   "execution_count": 2,
   "metadata": {},
   "outputs": [],
   "source": [
    "import numpy as np"
   ]
  },
  {
   "cell_type": "code",
   "execution_count": 3,
   "metadata": {},
   "outputs": [],
   "source": [
    "def create_array(n: int) -> list:\n",
    "    \"\"\"\n",
    "    Creates a list of random integers.\n",
    "\n",
    "    Parameters:\n",
    "    n (int): The number of elements to generate in the list.\n",
    "\n",
    "    Returns:\n",
    "    list: A list of random integers.\n",
    "    \"\"\"\n",
    "    return np.random.randint(1,101,size=n)\n"
   ]
  },
  {
   "cell_type": "code",
   "execution_count": 5,
   "metadata": {},
   "outputs": [],
   "source": [
    "def merge_sort(arr):\n",
    "    if len(arr) > 1:\n",
    "        mid = len(arr) // 2  # Dividir el array en dos mitades\n",
    "\n",
    "        # Dividir el array en dos mitades\n",
    "        left_half = arr[:mid]\n",
    "        right_half = arr[mid:]\n",
    "\n",
    "        # Llamada recursiva para ordenar cada mitad\n",
    "        merge_sort(left_half)\n",
    "        merge_sort(right_half)\n",
    "\n",
    "        # Combinar las dos mitades ordenadas\n",
    "        i = j = k = 0  # Índices para recorrer left_half, right_half y arr\n",
    "        while i < len(left_half) and j < len(right_half):\n",
    "            if left_half[i] < right_half[j]:\n",
    "                arr[k] = left_half[i]\n",
    "                i += 1\n",
    "            else:\n",
    "                arr[k] = right_half[j]\n",
    "                j += 1\n",
    "            k += 1\n",
    "\n",
    "        # Comprobar si quedan elementos en left_half o right_half\n",
    "        while i < len(left_half):\n",
    "            arr[k] = left_half[i]\n",
    "            i += 1\n",
    "            k += 1\n",
    "        while j < len(right_half):\n",
    "            arr[k] = right_half[j]\n",
    "            j += 1\n",
    "            k += 1\n"
   ]
  },
  {
   "cell_type": "markdown",
   "metadata": {},
   "source": [
    "# Create Array of N elements"
   ]
  },
  {
   "cell_type": "code",
   "execution_count": 6,
   "metadata": {},
   "outputs": [],
   "source": [
    "array_case_1_merge = create_array(1_000)\n",
    "array_case_2_merge = create_array(10_000)\n",
    "array_case_3_merge = create_array(100_000)\n",
    "array_case_4_merge = create_array(1_000_000)\n",
    "array_case_5_merge = create_array(10_000_000)"
   ]
  },
  {
   "cell_type": "markdown",
   "metadata": {},
   "source": [
    "## Execution time for cases"
   ]
  },
  {
   "cell_type": "markdown",
   "metadata": {},
   "source": [
    "### Case 1: Array of 1.000 elements"
   ]
  },
  {
   "cell_type": "code",
   "execution_count": 10,
   "metadata": {},
   "outputs": [
    {
     "name": "stdout",
     "output_type": "stream",
     "text": [
      "3.99 ms ± 75.6 µs per loop (mean ± std. dev. of 7 runs, 100 loops each)\n"
     ]
    }
   ],
   "source": [
    "%timeit merge_sort(array_case_1_merge)"
   ]
  },
  {
   "cell_type": "markdown",
   "metadata": {},
   "source": [
    "### Case 2: Array of 10.000 elements"
   ]
  },
  {
   "cell_type": "code",
   "execution_count": 7,
   "metadata": {},
   "outputs": [
    {
     "name": "stdout",
     "output_type": "stream",
     "text": [
      "51.8 ms ± 723 µs per loop (mean ± std. dev. of 7 runs, 10 loops each)\n"
     ]
    }
   ],
   "source": [
    "%timeit merge_sort(array_case_2_merge)"
   ]
  },
  {
   "cell_type": "markdown",
   "metadata": {},
   "source": [
    "### Case 3: Array of 100.000 elements"
   ]
  },
  {
   "cell_type": "code",
   "execution_count": 12,
   "metadata": {},
   "outputs": [
    {
     "name": "stdout",
     "output_type": "stream",
     "text": [
      "630 ms ± 4.35 ms per loop (mean ± std. dev. of 7 runs, 1 loop each)\n"
     ]
    }
   ],
   "source": [
    "%timeit merge_sort(array_case_3_merge)"
   ]
  },
  {
   "cell_type": "markdown",
   "metadata": {},
   "source": [
    "### Case 4: Array of 1.000.000 elements"
   ]
  },
  {
   "cell_type": "code",
   "execution_count": 13,
   "metadata": {},
   "outputs": [
    {
     "name": "stdout",
     "output_type": "stream",
     "text": [
      "7.45 s ± 109 ms per loop (mean ± std. dev. of 7 runs, 1 loop each)\n"
     ]
    }
   ],
   "source": [
    "%timeit merge_sort(array_case_4_merge)"
   ]
  },
  {
   "cell_type": "markdown",
   "metadata": {},
   "source": [
    "### Case 5: Array of 10.000.000 elements"
   ]
  },
  {
   "cell_type": "code",
   "execution_count": 14,
   "metadata": {},
   "outputs": [
    {
     "name": "stdout",
     "output_type": "stream",
     "text": [
      "1min 25s ± 769 ms per loop (mean ± std. dev. of 7 runs, 1 loop each)\n"
     ]
    }
   ],
   "source": [
    "%timeit merge_sort(array_case_5_merge)"
   ]
  }
 ],
 "metadata": {
  "kernelspec": {
   "display_name": "Python 3",
   "language": "python",
   "name": "python3"
  },
  "language_info": {
   "codemirror_mode": {
    "name": "ipython",
    "version": 3
   },
   "file_extension": ".py",
   "mimetype": "text/x-python",
   "name": "python",
   "nbconvert_exporter": "python",
   "pygments_lexer": "ipython3",
   "version": "3.9.10"
  }
 },
 "nbformat": 4,
 "nbformat_minor": 2
}
